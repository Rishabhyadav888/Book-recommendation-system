{
  "nbformat": 4,
  "nbformat_minor": 0,
  "metadata": {
    "colab": {
      "private_outputs": true,
      "provenance": [],
      "collapsed_sections": [
        "vncDsAP0Gaoa",
        "FJNUwmbgGyua",
        "w6K7xa23Elo4",
        "yQaldy8SH6Dl",
        "mDgbUHAGgjLW",
        "O_i_v8NEhb9l",
        "HhfV-JJviCcP",
        "Y3lxredqlCYt",
        "3RnN4peoiCZX",
        "x71ZqKXriCWQ",
        "7hBIi_osiCS2",
        "JlHwYmJAmNHm",
        "35m5QtbWiB9F",
        "PoPl-ycgm1ru",
        "H0kj-8xxnORC",
        "nA9Y7ga8ng1Z",
        "PBTbrJXOngz2",
        "u3PMJOP6ngxN",
        "dauF4eBmngu3",
        "bKJF3rekwFvQ",
        "MSa1f5Uengrz",
        "GF8Ens_Soomf",
        "0wOQAZs5pc--",
        "K5QZ13OEpz2H",
        "lQ7QKXXCp7Bj",
        "448CDAPjqfQr",
        "KSlN3yHqYklG",
        "t6dVpIINYklI",
        "ijmpgYnKYklI",
        "-JiQyfWJYklI",
        "EM7whBJCYoAo",
        "fge-S5ZAYoAp",
        "85gYPyotYoAp",
        "RoGjAbkUYoAp",
        "4Of9eVA-YrdM",
        "iky9q4vBYrdO",
        "F6T5p64dYrdO",
        "y-Ehk30pYrdP",
        "bamQiAODYuh1",
        "QHF8YVU7Yuh3",
        "GwzvFGzlYuh3",
        "qYpmQ266Yuh3",
        "OH-pJp9IphqM",
        "bbFf2-_FphqN",
        "_ouA3fa0phqN",
        "Seke61FWphqN",
        "PIIx-8_IphqN",
        "t27r6nlMphqO",
        "r2jJGEOYphqO",
        "b0JNsNcRphqO",
        "BZR9WyysphqO",
        "jj7wYXLtphqO",
        "eZrbJ2SmphqO",
        "rFu4xreNphqO",
        "YJ55k-q6phqO",
        "gCFgpxoyphqP",
        "OVtJsKN_phqQ",
        "lssrdh5qphqQ",
        "U2RJ9gkRphqQ",
        "1M8mcRywphqQ",
        "tgIPom80phqQ",
        "JMzcOPDDphqR",
        "x-EpHcCOp1ci",
        "X_VqEhTip1ck",
        "8zGJKyg5p1ck",
        "PVzmfK_Ep1ck",
        "n3dbpmDWp1ck",
        "ylSl6qgtp1ck",
        "ZWILFDl5p1ck",
        "M7G43BXep1ck",
        "Ag9LCva-p1cl",
        "E6MkPsBcp1cl",
        "2cELzS2fp1cl",
        "3MPXvC8up1cl",
        "NC_X3p0fY2L0",
        "UV0SzAkaZNRQ",
        "YPEH6qLeZNRQ",
        "q29F0dvdveiT",
        "EXh0U9oCveiU",
        "22aHeOlLveiV",
        "g-ATYxFrGrvw",
        "Yfr_Vlr8HBkt",
        "8yEUt7NnHlrM",
        "tEA2Xm5dHt1r",
        "I79__PHVH19G",
        "Ou-I18pAyIpj",
        "fF3858GYyt-u",
        "4_0_7-oCpUZd",
        "hwyV_J3ipUZe",
        "3yB-zSqbpUZe",
        "dEUvejAfpUZe",
        "Fd15vwWVpUZf",
        "bn_IUdTipZyH",
        "49K5P_iCpZyH",
        "Nff-vKELpZyI",
        "kLW572S8pZyI",
        "dWbDXHzopZyI",
        "yLjJCtPM0KBk",
        "xiyOF9F70UgQ",
        "7wuGOrhz0itI",
        "id1riN9m0vUs",
        "578E2V7j08f6",
        "89xtkJwZ18nB",
        "67NQN5KX2AMe",
        "Iwf50b-R2tYG",
        "GMQiZwjn3iu7",
        "WVIkgGqN3qsr",
        "XkPnILGE3zoT",
        "Hlsf0x5436Go",
        "mT9DMSJo4nBL",
        "c49ITxTc407N",
        "OeJFEK0N496M",
        "9ExmJH0g5HBk",
        "cJNqERVU536h",
        "k5UmGsbsOxih",
        "T0VqWOYE6DLQ",
        "qBMux9mC6MCf",
        "-oLEiFgy-5Pf",
        "C74aWNz2AliB",
        "2DejudWSA-a0",
        "pEMng2IbBLp7",
        "rAdphbQ9Bhjc",
        "TNVZ9zx19K6k",
        "nqoHp30x9hH9",
        "rMDnDkt2B6du",
        "yiiVWRdJDDil",
        "1UUpS68QDMuG",
        "kexQrXU-DjzY",
        "T5CmagL3EC8N",
        "BhH2vgX9EjGr",
        "qjKvONjwE8ra",
        "P1XJ9OREExlT",
        "VFOzZv6IFROw",
        "TIqpNgepFxVj",
        "VfCC591jGiD4",
        "OB4l2ZhMeS1U",
        "ArJBuiUVfxKd",
        "4qY1EAkEfxKe",
        "PiV4Ypx8fxKe",
        "TfvqoZmBfxKf",
        "dJ2tPlVmpsJ0",
        "JWYfwnehpsJ1",
        "-jK_YjpMpsJ2",
        "HAih1iBOpsJ2",
        "zVGeBEFhpsJ2",
        "bmKjuQ-FpsJ3",
        "Fze-IPXLpx6K",
        "7AN1z2sKpx6M",
        "9PIHJqyupx6M",
        "_-qAgymDpx6N",
        "Z-hykwinpx6N",
        "h_CCil-SKHpo",
        "cBFFvTBNJzUa",
        "HvGl1hHyA_VK",
        "EyNgTHvd2WFk",
        "KH5McJBi2d8v",
        "iW_Lq9qf2h6X",
        "-Kee-DAl2viO",
        "gCX9965dhzqZ",
        "gIfDvo9L0UH2"
      ],
      "include_colab_link": true
    },
    "kernelspec": {
      "name": "python3",
      "display_name": "Python 3"
    },
    "language_info": {
      "name": "python"
    },
    "gpuClass": "standard"
  },
  "cells": [
    {
      "cell_type": "markdown",
      "metadata": {
        "id": "view-in-github",
        "colab_type": "text"
      },
      "source": [
        "<a href=\"https://colab.research.google.com/github/Rishabhyadav888/Book-recommendation-system/blob/main/Book_recommendation_system_.ipynb\" target=\"_parent\"><img src=\"https://colab.research.google.com/assets/colab-badge.svg\" alt=\"Open In Colab\"/></a>"
      ]
    },
    {
      "cell_type": "markdown",
      "source": [
        "# **Project Name**    - \n",
        "\n"
      ],
      "metadata": {
        "id": "vncDsAP0Gaoa"
      }
    },
    {
      "cell_type": "markdown",
      "source": [
        "##### **Project Type**    - Unsupervised\n",
        "##### **Contribution**    - Individual\n"
      ],
      "metadata": {
        "id": "beRrZCGUAJYm"
      }
    },
    {
      "cell_type": "markdown",
      "source": [
        "# **Project Summary -**"
      ],
      "metadata": {
        "id": "FJNUwmbgGyua"
      }
    },
    {
      "cell_type": "markdown",
      "source": [
        "To summarize, the project aimed to develop a book recommendation system that uses machine learning techniques to suggest books based on users' reading history, ratings, and other factors. The project involved several steps, including EDA and data wrangling, data visualization, and hypothesis testing.\n",
        "During the EDA and data wrangling process, several steps were taken to ensure the data was clean and ready for analysis. The data visualization process involved exploring and presenting insights from various aspects of the data, including books, ratings, users' age, authors, users' countries, publishers, and publication year.\n",
        "\n",
        "In the hypothesis testing process, statistical tests were performed to test three hypotheses related to users' behavior and preferences. The results of the tests showed that there was sufficient evidence to reject the null hypothesis for the first two hypotheses, indicating that the average number of books read by users is more than 10, and the average age of users who read more than 50 books is 35. For the third hypothesis, the result of the test showed that there was not sufficient evidence to reject the null hypothesis, indicating that the top 100 books read by most users do not necessarily have an average rating of more than 8.\n",
        "\n",
        "In the data preprocessing step, a final dataset was created by selecting books with an average rating of 5 or more and read by at least 50 users. Users who had read at least 50 books and rated them were also selected, and a pivot table was created for the user and the books, filled with null values with zero.\n",
        "\n",
        "Finally, the recommendation system was developed using collaborative filtering, which utilized cosine similarity and a nearest neighbor model. Both models performed well, and the same recommendations were given by both models. Overall, the book recommendation system developed through this project can help users discover new books that they will enjoy, saving them time and increasing their overall enjoyment of reading.\n"
      ],
      "metadata": {
        "id": "F6v_1wHtG2nS"
      }
    },
    {
      "cell_type": "markdown",
      "source": [
        "# **GitHub Link -**"
      ],
      "metadata": {
        "id": "w6K7xa23Elo4"
      }
    },
    {
      "cell_type": "markdown",
      "source": [
        "https://github.com/Rishabhyadav888/Book-recommendation-system"
      ],
      "metadata": {
        "id": "h1o69JH3Eqqn"
      }
    },
    {
      "cell_type": "markdown",
      "source": [
        "# **Problem Statement**\n"
      ],
      "metadata": {
        "id": "yQaldy8SH6Dl"
      }
    },
    {
      "cell_type": "markdown",
      "source": [
        "Many book lovers often find it challenging to discover new books that suit their taste, and they rely on recommendations from friends or online reviews, which can be overwhelming and time-consuming. To address this issue, we aim to develop a book recommendation system that leverages machine learning techniques to suggest books that match users' preferences.\n",
        "\n",
        "The primary objective of this project is to build a personalized book recommendation system that takes into account users' reading history, ratings, and other relevant factors such as  author,publiser and publication year. The system should be able to provide accurate and diverse book recommendations that cater to users' specific interests and preferences.\n",
        "\n",
        "The goal of this system is to provide personalized recommendations that will help readers discover new books they will enjoy and increase the likelihood of them continuing to read more books.\n",
        "\n",
        "By building such a system, we can save time for book lovers and provide them with a more diverse range of books to choose from, ultimately increasing the overall enjoyment of reading.\n",
        "\n",
        "\n",
        "\n",
        "\n",
        "\n"
      ],
      "metadata": {
        "id": "DpeJGUA3kjGy"
      }
    },
    {
      "cell_type": "markdown",
      "source": [
        "# ***Let's Begin !***"
      ],
      "metadata": {
        "id": "O_i_v8NEhb9l"
      }
    },
    {
      "cell_type": "markdown",
      "source": [
        "## ***1. Know Your Data***"
      ],
      "metadata": {
        "id": "HhfV-JJviCcP"
      }
    },
    {
      "cell_type": "markdown",
      "source": [
        "### Import Libraries"
      ],
      "metadata": {
        "id": "Y3lxredqlCYt"
      }
    },
    {
      "cell_type": "code",
      "source": [
        "# Import Libraries\n",
        "import numpy as np\n",
        "import pandas as pd\n",
        "import seaborn as sns\n",
        "import matplotlib.pyplot as plt\n",
        "%matplotlib inline\n",
        "import seaborn as sns\n",
        "\n",
        "from scipy.stats import *\n",
        "import math\n",
        "from scipy.stats import ttest_1samp\n",
        "\n",
        "from wordcloud import WordCloud,STOPWORDS\n",
        "\n",
        "from sklearn.metrics.pairwise import cosine_similarity\n",
        "\n",
        "from scipy.sparse import csr_matrix\n",
        "from sklearn.neighbors import NearestNeighbors"
      ],
      "metadata": {
        "id": "M8Vqi-pPk-HR"
      },
      "execution_count": null,
      "outputs": []
    },
    {
      "cell_type": "markdown",
      "source": [
        "### Dataset Loading"
      ],
      "metadata": {
        "id": "3RnN4peoiCZX"
      }
    },
    {
      "cell_type": "code",
      "source": [
        "# Connect to google drive\n",
        "from google.colab import drive\n",
        "drive.mount('/content/drive')"
      ],
      "metadata": {
        "id": "kgusTQpFCCKD"
      },
      "execution_count": null,
      "outputs": []
    },
    {
      "cell_type": "code",
      "source": [
        "# path of the datasets\n",
        "path='/content/drive/MyDrive/Capstone Project/Book recommendation system/'"
      ],
      "metadata": {
        "id": "ZKoehoVI4p0h"
      },
      "execution_count": null,
      "outputs": []
    },
    {
      "cell_type": "code",
      "source": [
        "# Load Dataset\n",
        "books=pd.read_csv(path+'Books.csv')\n",
        "ratings=pd.read_csv(path+'Ratings.csv')\n",
        "users=pd.read_csv(path+'Users.csv')\n"
      ],
      "metadata": {
        "id": "4CkvbW_SlZ_R"
      },
      "execution_count": null,
      "outputs": []
    },
    {
      "cell_type": "markdown",
      "source": [
        "### Dataset First View"
      ],
      "metadata": {
        "id": "x71ZqKXriCWQ"
      }
    },
    {
      "cell_type": "code",
      "source": [
        "# Book Dataset First Look\n",
        "books.head()"
      ],
      "metadata": {
        "id": "LWNFOSvLl09H"
      },
      "execution_count": null,
      "outputs": []
    },
    {
      "cell_type": "code",
      "source": [
        "# Users Dataset First Look\n",
        "users.head()"
      ],
      "metadata": {
        "id": "Sv8lpDkGGCOF"
      },
      "execution_count": null,
      "outputs": []
    },
    {
      "cell_type": "code",
      "source": [
        "# Ratings Dataset First Look\n",
        "ratings.head()"
      ],
      "metadata": {
        "id": "rG07xKDlGEG6"
      },
      "execution_count": null,
      "outputs": []
    },
    {
      "cell_type": "markdown",
      "source": [
        "### Dataset Rows & Columns count"
      ],
      "metadata": {
        "id": "7hBIi_osiCS2"
      }
    },
    {
      "cell_type": "code",
      "source": [
        "# Dataset Rows & Columns count\n",
        "print(books.shape)\n",
        "print(users.shape)\n",
        "print(ratings.shape)\n"
      ],
      "metadata": {
        "id": "Kllu7SJgmLij"
      },
      "execution_count": null,
      "outputs": []
    },
    {
      "cell_type": "markdown",
      "source": [
        "### Dataset Information"
      ],
      "metadata": {
        "id": "JlHwYmJAmNHm"
      }
    },
    {
      "cell_type": "code",
      "source": [
        "# Books dataset info\n",
        "books.info()"
      ],
      "metadata": {
        "id": "e9hRXRi6meOf"
      },
      "execution_count": null,
      "outputs": []
    },
    {
      "cell_type": "code",
      "source": [
        "# Users dataset info\n",
        "users.info()"
      ],
      "metadata": {
        "id": "0OE5rUFDGeAa"
      },
      "execution_count": null,
      "outputs": []
    },
    {
      "cell_type": "code",
      "source": [
        "# Ratings dataset info\n",
        "ratings.info()"
      ],
      "metadata": {
        "id": "7R5qxqikGhLG"
      },
      "execution_count": null,
      "outputs": []
    },
    {
      "cell_type": "markdown",
      "source": [
        "#### Duplicate Values"
      ],
      "metadata": {
        "id": "35m5QtbWiB9F"
      }
    },
    {
      "cell_type": "code",
      "source": [
        "# Dataset Duplicate Value Count\n",
        "print(books.duplicated().sum())\n",
        "print(users.duplicated().sum())\n",
        "print(ratings.duplicated().sum())\n"
      ],
      "metadata": {
        "id": "1sLdpKYkmox0"
      },
      "execution_count": null,
      "outputs": []
    },
    {
      "cell_type": "markdown",
      "source": [
        "#### Missing Values/Null Values"
      ],
      "metadata": {
        "id": "PoPl-ycgm1ru"
      }
    },
    {
      "cell_type": "code",
      "source": [
        "# Missing Values/Null Values Count\n",
        "books_null_count=books.isnull().sum()\n",
        "print(books_null_count)"
      ],
      "metadata": {
        "id": "GgHWkxvamxVg"
      },
      "execution_count": null,
      "outputs": []
    },
    {
      "cell_type": "code",
      "source": [
        "# Visualizing the missing values in book dataset\n",
        "plt.figure(figsize=(8,5))\n",
        "books_null_count.plot(kind='bar')\n",
        "plt.show()"
      ],
      "metadata": {
        "id": "3q5wnI3om9sJ"
      },
      "execution_count": null,
      "outputs": []
    },
    {
      "cell_type": "code",
      "source": [
        "# checking for null values in rating dataset\n",
        "ratings.isnull().sum()"
      ],
      "metadata": {
        "id": "O_FPEecYHlcD"
      },
      "execution_count": null,
      "outputs": []
    },
    {
      "cell_type": "code",
      "source": [
        "# checking for null values in users dataset\n",
        "users_null_count=users.isnull().sum()\n",
        "print(users_null_count)"
      ],
      "metadata": {
        "id": "aVL9SlQAHs5M"
      },
      "execution_count": null,
      "outputs": []
    },
    {
      "cell_type": "code",
      "source": [
        "# Visualizing the missing values in users dataset\n",
        "users_null_count.plot(kind='bar')\n",
        "plt.show()"
      ],
      "metadata": {
        "id": "EWcdpKHJY-2M"
      },
      "execution_count": null,
      "outputs": []
    },
    {
      "cell_type": "markdown",
      "source": [
        "### What did you know about your dataset?"
      ],
      "metadata": {
        "id": "H0kj-8xxnORC"
      }
    },
    {
      "cell_type": "markdown",
      "source": [
        "* The dataset we have is of different types of books,users informations and rating given to different kinds of books and we have to analysis the insights behind it.\n",
        "* There are in total 6 null values in the books dataset and almost 110000 null values in age columns of users dataset."
      ],
      "metadata": {
        "id": "gfoNAAC-nUe_"
      }
    },
    {
      "cell_type": "markdown",
      "source": [
        "## ***2. Understanding Your Variables***"
      ],
      "metadata": {
        "id": "nA9Y7ga8ng1Z"
      }
    },
    {
      "cell_type": "code",
      "source": [
        "# Dataset Columns\n",
        "print(books.columns)\n",
        "print(users.columns)\n",
        "print(ratings.columns)\n"
      ],
      "metadata": {
        "id": "j7xfkqrt5Ag5"
      },
      "execution_count": null,
      "outputs": []
    },
    {
      "cell_type": "code",
      "source": [
        "# Books dataset Describe\n",
        "books.describe()"
      ],
      "metadata": {
        "id": "DnOaZdaE5Q5t"
      },
      "execution_count": null,
      "outputs": []
    },
    {
      "cell_type": "code",
      "source": [
        "# Users dataset Describe\n",
        "users.describe()"
      ],
      "metadata": {
        "id": "tm1a6y-rmGjv"
      },
      "execution_count": null,
      "outputs": []
    },
    {
      "cell_type": "code",
      "source": [
        "# Ratings dataset Describe\n",
        "ratings.describe()"
      ],
      "metadata": {
        "id": "B9BeieF6mKFQ"
      },
      "execution_count": null,
      "outputs": []
    },
    {
      "cell_type": "markdown",
      "source": [
        "### Variables Description "
      ],
      "metadata": {
        "id": "PBTbrJXOngz2"
      }
    },
    {
      "cell_type": "markdown",
      "source": [
        "* **ISBN               :** unique book id\n",
        "\n",
        "* **Book-Title       :**Name of the book\n",
        "\n",
        "* **Book-Author            :**Name of the author\n",
        "\n",
        "* **Year-Of-Publication           :**In which year book was publised\n",
        "\n",
        "* **Publisher        :**Name of the publiser\n",
        "\n",
        "* **Image-URL-S             :**Small image url\n",
        "\n",
        "* **Image-URL-M**         :Medium image url\n",
        "\n",
        "* **Image-URL-L**         :Large image url\n",
        "\n",
        "* **User-ID**          :unique user id\n",
        "* **Location**          :City,State,Country of the user\n",
        "* **Age**          :Age of the year\n",
        "* **Book-Rating**          :Ratings given by user for the book\n"
      ],
      "metadata": {
        "id": "aJV4KIxSnxay"
      }
    },
    {
      "cell_type": "markdown",
      "source": [
        "### Check Unique Values for each variable."
      ],
      "metadata": {
        "id": "u3PMJOP6ngxN"
      }
    },
    {
      "cell_type": "code",
      "source": [
        "# Check Unique Values for each variable of books dataset.\n",
        "books.nunique()"
      ],
      "metadata": {
        "id": "zms12Yq5n-jE"
      },
      "execution_count": null,
      "outputs": []
    },
    {
      "cell_type": "code",
      "source": [
        "# Check Unique Values for each variable of users dataset.\n",
        "users.nunique()"
      ],
      "metadata": {
        "id": "aGb5Vg1ho6oh"
      },
      "execution_count": null,
      "outputs": []
    },
    {
      "cell_type": "code",
      "source": [
        "# Check Unique Values for each variable of ratings dataset.\n",
        "ratings.nunique()"
      ],
      "metadata": {
        "id": "Vs8viiPkK6gy"
      },
      "execution_count": null,
      "outputs": []
    },
    {
      "cell_type": "markdown",
      "source": [
        "## 3. ***Data Wrangling***"
      ],
      "metadata": {
        "id": "dauF4eBmngu3"
      }
    },
    {
      "cell_type": "markdown",
      "source": [
        "### Data Wrangling Code"
      ],
      "metadata": {
        "id": "bKJF3rekwFvQ"
      }
    },
    {
      "cell_type": "code",
      "source": [
        "# Write your code to make your dataset analysis ready.olun\n",
        "# changed the name of the few columns\n",
        "books.rename(columns={'Book-Title':'book_title','Book-Author':'book_author','Year-Of-Publication':'year_of_publication','Publisher':'publisher','Image-URL-M':'image_url_m'},inplace=True)\n",
        "users.rename(columns={'\tUser-ID':'user_id','Location':'location','Age':'age'},inplace=True)\n",
        "ratings.rename(columns={'\tUser-ID':'user_id','Book-Rating':'book_rating'},inplace=True)"
      ],
      "metadata": {
        "id": "wk-9a2fpoLcV"
      },
      "execution_count": null,
      "outputs": []
    },
    {
      "cell_type": "code",
      "source": [
        "# Deleted image url of small and large size image\n",
        "books.drop(['Image-URL-S','Image-URL-L'],axis=1,inplace=True)"
      ],
      "metadata": {
        "id": "LPZn_RSEYtpj"
      },
      "execution_count": null,
      "outputs": []
    },
    {
      "cell_type": "code",
      "source": [
        "# unique value of year_of_publication\n",
        "books.year_of_publication.unique()"
      ],
      "metadata": {
        "id": "fiW8Rc7sWKda"
      },
      "execution_count": null,
      "outputs": []
    },
    {
      "cell_type": "markdown",
      "source": [
        "While checking for unique values found 2 values which are the name of publiser was mentioned in year_of_publication."
      ],
      "metadata": {
        "id": "2PkL1qLEXh9b"
      }
    },
    {
      "cell_type": "code",
      "source": [
        "# wroung entreis in the columns\n",
        "books[(books['year_of_publication']=='DK Publishing Inc') | (books['year_of_publication']=='Gallimard')]"
      ],
      "metadata": {
        "id": "4X2easuyX-7-"
      },
      "execution_count": null,
      "outputs": []
    },
    {
      "cell_type": "code",
      "source": [
        "# corrected the wroung entreis in the columns\n",
        "books.loc[books.ISBN == '078946697X','publisher'] = 'DK Publishing Inc'\n",
        "books.loc[books.ISBN == '078946697X','year_of_publication'] = '2000'\n",
        "books.loc[books.ISBN == '078946697X','book_author'] = 'Michael Teitelbaum'\n",
        "books.loc[books.ISBN == '078946697X','book_title'] = 'DK Readers: Creating the X-Men, How It All Began (Level 4: Proficient Readers)'\n",
        "books.loc[books.ISBN == '078946697X','image_url_m'] = 'http://images.amazon.com/images/P/078946697X.01.MZZZZZZZ.jpg'\n",
        "\n",
        "books.loc[books.ISBN == '0789466953','image_url_m'] = 'http://images.amazon.com/images/P/0789466953.01.MZZZZZZZ.jpg'\n",
        "books.loc[books.ISBN == '0789466953','publisher'] = 'DK Publishing Inc'\n",
        "books.loc[books.ISBN == '0789466953','year_of_publication'] = '2000'\n",
        "books.loc[books.ISBN == '0789466953','book_author'] = 'James Buckley'\n",
        "books.loc[books.ISBN == '0789466953','book_title'] = 'DK Readers: Creating the X-Men, How Comic Books Come to Life (Level 4: Proficient Readers)'\n",
        "\n",
        "\n",
        "books.loc[books.ISBN == '2070426769','publisher'] = 'Gallimard'\n",
        "books.loc[books.ISBN == '2070426769','year_of_publication'] = '2003'\n",
        "books.loc[books.ISBN == '2070426769','book_author'] = 'Jean-Marie Gustave Le ClÃ?Â©zio'\n",
        "books.loc[books.ISBN == '2070426769','book_title'] = \"Peuple du ciel, suivi de 'Les Bergers\"\n",
        "books.loc[books.ISBN == '2070426769','image_url_m'] = 'http://images.amazon.com/images/P/2070426769.01.MZZZZZZZ.jpg'"
      ],
      "metadata": {
        "id": "lA1qgxc3ecKU"
      },
      "execution_count": null,
      "outputs": []
    },
    {
      "cell_type": "code",
      "source": [
        "# function to extract country from location\n",
        "def get_country(location):\n",
        "  a=location.split(', ')\n",
        "  country=a[-1]\n",
        " \n",
        "  return country"
      ],
      "metadata": {
        "id": "PTqZR1PnC31j"
      },
      "execution_count": null,
      "outputs": []
    },
    {
      "cell_type": "code",
      "source": [
        "# create new column country \n",
        "users['country']=users['location'].apply(get_country)"
      ],
      "metadata": {
        "id": "4deGGkbL50ja"
      },
      "execution_count": null,
      "outputs": []
    },
    {
      "cell_type": "code",
      "source": [
        "# Deleted rows where rating was zero\n",
        "zero_dataset=ratings[ratings['book_rating']==0].index\n",
        "ratings.drop(zero_dataset,inplace=True)"
      ],
      "metadata": {
        "id": "a6FMx9CW1Lmz"
      },
      "execution_count": null,
      "outputs": []
    },
    {
      "cell_type": "code",
      "source": [
        "# Droped rows with age <12 & >85\n",
        "users.drop(users[(users['age']>85) | (users['age']<12)].index,inplace=True)"
      ],
      "metadata": {
        "id": "9-wjiyb2lP_T"
      },
      "execution_count": null,
      "outputs": []
    },
    {
      "cell_type": "code",
      "source": [
        "# Merge the book, rating and users dataset\n",
        "rating_with_book=books.merge(ratings,on='ISBN')\n",
        "df=rating_with_book.merge(users,on='User-ID')"
      ],
      "metadata": {
        "id": "_DBqPeGOYRS1"
      },
      "execution_count": null,
      "outputs": []
    },
    {
      "cell_type": "code",
      "source": [
        "# book title with highest book rating\n",
        "book_with_highest_rating=df.groupby('book_title')['book_rating'].sum().reset_index()\n",
        "book_with_highest_rating=book_with_highest_rating.sort_values(by = 'book_rating',ascending=False)"
      ],
      "metadata": {
        "id": "93-hAaR4vfxN"
      },
      "execution_count": null,
      "outputs": []
    },
    {
      "cell_type": "code",
      "source": [
        "# Most reded books with total rating\n",
        "\n",
        "most_readed_books=df['book_title'].value_counts().reset_index().head(20)\n",
        "most_readed_books.columns=['book_title','count']\n",
        "\n",
        "book_with_avg_rating=df.groupby('book_title')['book_rating'].mean().sort_index(ascending=False).reset_index()\n",
        "\n",
        "most_readed_books_with_rating=book_with_avg_rating.merge(most_readed_books,on='book_title')\n",
        "most_readed_books_with_rating = most_readed_books_with_rating.sort_values(by = 'count',ascending=False)"
      ],
      "metadata": {
        "id": "tlLRw23YwOq2"
      },
      "execution_count": null,
      "outputs": []
    },
    {
      "cell_type": "code",
      "source": [
        "# Author with highest book rating\n",
        "author_with_highest_rating= df.groupby('book_author')['book_rating'].sum().reset_index()\n",
        "author_with_highest_rating=author_with_highest_rating.sort_values(by = 'book_rating',ascending=False).head(10)"
      ],
      "metadata": {
        "id": "k0E2WWKHsdSG"
      },
      "execution_count": null,
      "outputs": []
    },
    {
      "cell_type": "code",
      "source": [
        "# Heighest rating done by which age group\n",
        "age_with_most_rating=df.groupby('age')['book_rating'].sum().reset_index().sort_values(by='book_rating',ascending=False).head(20)"
      ],
      "metadata": {
        "id": "0PC3euXYg7iZ"
      },
      "execution_count": null,
      "outputs": []
    },
    {
      "cell_type": "markdown",
      "source": [
        "### What all manipulations have you done and insights you found?"
      ],
      "metadata": {
        "id": "MSa1f5Uengrz"
      }
    },
    {
      "cell_type": "markdown",
      "source": [
        "* changed the name of the few columns for better understanding.\n",
        "* Deleted image url of small and large size image as they were no use of.\n",
        "* corrected the wroung entreis in few of the columns.\n",
        "* Made a function to extract country from location and create new column country.\n",
        "* Deleted rows where the book rating was zero by the user in rating column.\n",
        "* Droped rows with users having age of less than 12 & greater than 85.As there was outlier in the dataset.\n",
        "* Merge the book, rating and users dataset.\n",
        "* Made a few new dataset for the analysis:\n",
        "  * Book titles with highest ratings.\n",
        "  * Most reded books with total rating\n",
        "  * Author with highest book rating\n",
        "  * Heighest rating done by which age group"
      ],
      "metadata": {
        "id": "LbyXE7I1olp8"
      }
    },
    {
      "cell_type": "markdown",
      "source": [
        "## ***4. Data Vizualization, Storytelling & Experimenting with charts : Understand the relationships between variables***"
      ],
      "metadata": {
        "id": "GF8Ens_Soomf"
      }
    },
    {
      "cell_type": "markdown",
      "source": [
        "#### Author(Univariate analysis)"
      ],
      "metadata": {
        "id": "0wOQAZs5pc--"
      }
    },
    {
      "cell_type": "code",
      "source": [
        "# Chart - 1 visualization code(Top 10 author with highest number of books written)\n",
        "plt.figure(figsize=(10,6))\n",
        "sns.countplot(data=books,y='book_author',order=books['book_author'].value_counts().index[0:10])\n",
        "plt.title('Top 10 author with highest number of books written')\n",
        "plt.show()"
      ],
      "metadata": {
        "id": "7v_ESjsspbW7"
      },
      "execution_count": null,
      "outputs": []
    },
    {
      "cell_type": "markdown",
      "source": [
        "##### 1. Why did you pick the specific chart?"
      ],
      "metadata": {
        "id": "K5QZ13OEpz2H"
      }
    },
    {
      "cell_type": "markdown",
      "source": [
        "The countplot is used to represent the occurrence(counts) of the observation present in the categorical variable. It uses the concept of a bar chart for the visual depiction.\n",
        "\n",
        "The bar graph is used to compare the items between different groups over time. Bar graphs are used to measure the changes over a period of time. When the changes are larger, a bar graph is the best option to represent the data.\n",
        "\n",
        "Thus, I have used the bar plot to show the relationship between author and number of book written."
      ],
      "metadata": {
        "id": "XESiWehPqBRc"
      }
    },
    {
      "cell_type": "markdown",
      "source": [
        "##### 2. What is/are the insight(s) found from the chart?"
      ],
      "metadata": {
        "id": "lQ7QKXXCp7Bj"
      }
    },
    {
      "cell_type": "markdown",
      "source": [
        "The highest number of books written by any author was 600 plus and top ten author with highest number of books were around 300 plus books."
      ],
      "metadata": {
        "id": "C_j1G7yiqdRP"
      }
    },
    {
      "cell_type": "markdown",
      "source": [
        "##### 3. Will the gained insights help creating a positive business impact? \n",
        "Are there any insights that lead to negative growth? Justify with specific reason."
      ],
      "metadata": {
        "id": "448CDAPjqfQr"
      }
    },
    {
      "cell_type": "markdown",
      "source": [
        "In book recommendation system in most of the cases these top ten authors book will be recommended as they have written more numbers of books."
      ],
      "metadata": {
        "id": "3cspy4FjqxJW"
      }
    },
    {
      "cell_type": "markdown",
      "source": [
        "#### Publiser(Univariate analysis)"
      ],
      "metadata": {
        "id": "KSlN3yHqYklG"
      }
    },
    {
      "cell_type": "code",
      "source": [
        "# Chart - 2 visualization code(Top 10 publishers with highest number of books)\n",
        "plt.figure(figsize=(10,6))\n",
        "sns.countplot(data=books,y='publisher',order=books['publisher'].value_counts().index[0:10])\n",
        "plt.title('Top 10 publishers with highest number of books')\n",
        "plt.show()"
      ],
      "metadata": {
        "id": "R4YgtaqtYklH"
      },
      "execution_count": null,
      "outputs": []
    },
    {
      "cell_type": "markdown",
      "source": [
        "##### 1. Why did you pick the specific chart?"
      ],
      "metadata": {
        "id": "t6dVpIINYklI"
      }
    },
    {
      "cell_type": "markdown",
      "source": [
        "The countplot is used to represent the occurrence(counts) of the observation present in the categorical variable. It uses the concept of a bar chart for the visual depiction.\n",
        "\n",
        "The bar graph is used to compare the items between different groups over time. Bar graphs are used to measure the changes over a period of time. When the changes are larger, a bar graph is the best option to represent the data.\n",
        "\n",
        "Thus, I have used the bar plot to show the relationship between publisher and number of book published."
      ],
      "metadata": {
        "id": "5aaW0BYyYklI"
      }
    },
    {
      "cell_type": "markdown",
      "source": [
        "##### 2. What is/are the insight(s) found from the chart?"
      ],
      "metadata": {
        "id": "ijmpgYnKYklI"
      }
    },
    {
      "cell_type": "markdown",
      "source": [
        "Harlequin is the top publisher with the highest number of books publish around 7000 plus books and most of the top publisher has published 2000+ books."
      ],
      "metadata": {
        "id": "PSx9atu2YklI"
      }
    },
    {
      "cell_type": "markdown",
      "source": [
        "##### 3. Will the gained insights help creating a positive business impact? \n",
        "Are there any insights that lead to negative growth? Justify with specific reason."
      ],
      "metadata": {
        "id": "-JiQyfWJYklI"
      }
    },
    {
      "cell_type": "markdown",
      "source": [
        "In book recommendation system in most of the cases these top ten publisher book will be recommended as they have published more numbers of books."
      ],
      "metadata": {
        "id": "BcBbebzrYklV"
      }
    },
    {
      "cell_type": "markdown",
      "source": [
        "#### Year(Univariate analysis)"
      ],
      "metadata": {
        "id": "EM7whBJCYoAo"
      }
    },
    {
      "cell_type": "code",
      "source": [
        "# Chart - 3 visualization code(Top 10 year of publishing)\n",
        "plt.figure(figsize=(10,6))\n",
        "sns.countplot(data=books,x='year_of_publication',order=books['year_of_publication'].value_counts().index[0:10])\n",
        "plt.title('Top 10 year of publishing')\n",
        "plt.show()"
      ],
      "metadata": {
        "id": "t6GMdE67YoAp"
      },
      "execution_count": null,
      "outputs": []
    },
    {
      "cell_type": "markdown",
      "source": [
        "##### 1. Why did you pick the specific chart?"
      ],
      "metadata": {
        "id": "fge-S5ZAYoAp"
      }
    },
    {
      "cell_type": "markdown",
      "source": [
        "The countplot is used to represent the occurrence(counts) of the observation present in the categorical variable. It uses the concept of a bar chart for the visual depiction.\n",
        "\n",
        "The bar graph is used to compare the items between different groups over time. Bar graphs are used to measure the changes over a period of time. When the changes are larger, a bar graph is the best option to represent the data.\n",
        "\n",
        "Thus, I have used the bar plot to show the  number of book published in a year."
      ],
      "metadata": {
        "id": "5dBItgRVYoAp"
      }
    },
    {
      "cell_type": "markdown",
      "source": [
        "##### 2. What is/are the insight(s) found from the chart?"
      ],
      "metadata": {
        "id": "85gYPyotYoAp"
      }
    },
    {
      "cell_type": "markdown",
      "source": [
        "Highest number of books were published in 2002 and most of the books were published between the year of 1994 to 2003."
      ],
      "metadata": {
        "id": "4jstXR6OYoAp"
      }
    },
    {
      "cell_type": "markdown",
      "source": [
        "#### Rating(Univariate analysis)"
      ],
      "metadata": {
        "id": "4Of9eVA-YrdM"
      }
    },
    {
      "cell_type": "code",
      "source": [
        "# Chart - 4 visualization code(Number of ratings)\n",
        "plt.figure(figsize=(10,6))\n",
        "sns.countplot(data=ratings,x='book_rating')\n",
        "plt.title('Number of ratings given to the books')\n",
        "plt.show()"
      ],
      "metadata": {
        "id": "irlUoxc8YrdO"
      },
      "execution_count": null,
      "outputs": []
    },
    {
      "cell_type": "markdown",
      "source": [
        "##### 1. Why did you pick the specific chart?"
      ],
      "metadata": {
        "id": "iky9q4vBYrdO"
      }
    },
    {
      "cell_type": "markdown",
      "source": [
        "The countplot is used to represent the occurrence(counts) of the observation present in the categorical variable. It uses the concept of a bar chart for the visual depiction.\n",
        "\n",
        "The bar graph is used to compare the items between different groups over time. Bar graphs are used to measure the changes over a period of time. When the changes are larger, a bar graph is the best option to represent the data.\n",
        "\n",
        "Thus, I have used the bar plot to show the number of rating given to the books."
      ],
      "metadata": {
        "id": "aJRCwT6DYrdO"
      }
    },
    {
      "cell_type": "markdown",
      "source": [
        "##### 2. What is/are the insight(s) found from the chart?"
      ],
      "metadata": {
        "id": "F6T5p64dYrdO"
      }
    },
    {
      "cell_type": "markdown",
      "source": [
        "Number of 0 rating was very high but as in recommendations system 0 rating is not going to help us to recommend the books to the users, so we have removed the 0 rating and after removing we have plotted the count plot for each type of ratings.\n",
        "\n",
        "we can find out that most of the books have got 5 or 5+ ratings.\n"
      ],
      "metadata": {
        "id": "Xx8WAJvtYrdO"
      }
    },
    {
      "cell_type": "markdown",
      "source": [
        "##### 3. Will the gained insights help creating a positive business impact? \n",
        "Are there any insights that lead to negative growth? Justify with specific reason."
      ],
      "metadata": {
        "id": "y-Ehk30pYrdP"
      }
    },
    {
      "cell_type": "markdown",
      "source": [
        "Now after removing those books which were having zero ratings now we are left with only those books which have some ratings which can help us to recommend the users in our recommendation system."
      ],
      "metadata": {
        "id": "jLNxxz7MYrdP"
      }
    },
    {
      "cell_type": "markdown",
      "source": [
        "#### Books(Univariate analysis)"
      ],
      "metadata": {
        "id": "bamQiAODYuh1"
      }
    },
    {
      "cell_type": "code",
      "source": [
        "# Chart - 5 visualization code(Top 20 most readed books)\n",
        "plt.figure(figsize=(10,6))\n",
        "sns.countplot(data=df,y='book_title',order=df['book_title'].value_counts().index[0:20])\n",
        "plt.title('Top 20 most readed books')\n",
        "plt.show()"
      ],
      "metadata": {
        "id": "PXeLGGKMlrX6"
      },
      "execution_count": null,
      "outputs": []
    },
    {
      "cell_type": "markdown",
      "source": [
        "##### 1. Why did you pick the specific chart?"
      ],
      "metadata": {
        "id": "QHF8YVU7Yuh3"
      }
    },
    {
      "cell_type": "markdown",
      "source": [
        "The countplot is used to represent the occurrence(counts) of the observation present in the categorical variable. It uses the concept of a bar chart for the visual depiction.\n",
        "\n",
        "The bar graph is used to compare the items between different groups over time. Bar graphs are used to measure the changes over a period of time. When the changes are larger, a bar graph is the best option to represent the data.\n",
        "\n",
        "Thus, I have used the bar plot to show the top 20 books readed by the different users."
      ],
      "metadata": {
        "id": "dcxuIMRPYuh3"
      }
    },
    {
      "cell_type": "markdown",
      "source": [
        "##### 2. What is/are the insight(s) found from the chart?"
      ],
      "metadata": {
        "id": "GwzvFGzlYuh3"
      }
    },
    {
      "cell_type": "markdown",
      "source": [
        "These are the top 20 books having more user base where 250 plus different type of users had read these books and given some reviews.\n",
        "\n",
        "The lovely bones is the top novel which has been read by most of the users around 700 plus users have read these books and given some reviews."
      ],
      "metadata": {
        "id": "uyqkiB8YYuh3"
      }
    },
    {
      "cell_type": "markdown",
      "source": [
        "##### 3. Will the gained insights help creating a positive business impact? \n",
        "Are there any insights that lead to negative growth? Justify with specific reason."
      ],
      "metadata": {
        "id": "qYpmQ266Yuh3"
      }
    },
    {
      "cell_type": "markdown",
      "source": [
        "These top 20 books can be used to recommend to the new users as these books are read by most of the users."
      ],
      "metadata": {
        "id": "_WtzZ_hCYuh4"
      }
    },
    {
      "cell_type": "markdown",
      "source": [
        "####  Most frequent words in book title(Univariate analysis)"
      ],
      "metadata": {
        "id": "x-EpHcCOp1ci"
      }
    },
    {
      "cell_type": "code",
      "source": [
        "# Chart - 6 visualization code( Most frequent words in book title)\n",
        "stopwords=set(STOPWORDS)\n",
        "\n",
        "text=books['book_title']\n",
        "wordcloud2 = WordCloud(random_state=10,stopwords=stopwords).generate(str(text))\n",
        "# Generate plot\n",
        "plt.figure(figsize=(10,6))\n",
        "plt.title(' Most frequent words in book title')\n",
        "plt.imshow(wordcloud2)\n",
        "plt.axis(\"off\")\n",
        "plt.show()"
      ],
      "metadata": {
        "id": "mAQTIvtqp1cj"
      },
      "execution_count": null,
      "outputs": []
    },
    {
      "cell_type": "markdown",
      "source": [
        "##### 1. Why did you pick the specific chart?"
      ],
      "metadata": {
        "id": "X_VqEhTip1ck"
      }
    },
    {
      "cell_type": "markdown",
      "source": [
        "Wordcloud is basically a visualization technique to represent the frequency of words in a text where the size of the word represents its frequency.\n",
        "\n",
        "Thus, I have used the word clouds to represent what kind of books are available in our dataset."
      ],
      "metadata": {
        "id": "-vsMzt_np1ck"
      }
    },
    {
      "cell_type": "markdown",
      "source": [
        "##### 2. What is/are the insight(s) found from the chart?"
      ],
      "metadata": {
        "id": "8zGJKyg5p1ck"
      }
    },
    {
      "cell_type": "markdown",
      "source": [
        "We found that most of the books are related to stories type and these stories are related to mythology,classic,pandemic,mummies,decision making,world,influenza etc."
      ],
      "metadata": {
        "id": "ZYdMsrqVp1ck"
      }
    },
    {
      "cell_type": "markdown",
      "source": [
        "#### Age(Univariate analysis)"
      ],
      "metadata": {
        "id": "OH-pJp9IphqM"
      }
    },
    {
      "cell_type": "code",
      "source": [
        "# Chart - 7 visualization code(Number of users in each age group)\n",
        "plt.figure(figsize=(10,6))\n",
        "sns.histplot(data=users,x='age')\n",
        "plt.title('Number of users in each age group')\n",
        "plt.show()"
      ],
      "metadata": {
        "id": "mOq1y8n6q2bg"
      },
      "execution_count": null,
      "outputs": []
    },
    {
      "cell_type": "markdown",
      "source": [
        "##### 1. Why did you pick the specific chart?"
      ],
      "metadata": {
        "id": "bbFf2-_FphqN"
      }
    },
    {
      "cell_type": "markdown",
      "source": [
        "The histogram is a popular graphing tool. It is used to summarize discrete or continuous data that are measured on an interval scale. It is often used to illustrate the major features of the distribution of the data in a convenient form. It is also useful when dealing with large data sets (greater than 100 observations). It can help detect any unusual observations (outliers) or any gaps in the data.\n",
        "\n",
        "Thus, I used the histogram plot to analysis the variable distributions over the whole dataset whether it's symmetric or not."
      ],
      "metadata": {
        "id": "loh7H2nzphqN"
      }
    },
    {
      "cell_type": "markdown",
      "source": [
        "##### 2. What is/are the insight(s) found from the chart?"
      ],
      "metadata": {
        "id": "_ouA3fa0phqN"
      }
    },
    {
      "cell_type": "markdown",
      "source": [
        "Most of the users who read books are from the age group of 15 to 55 and we have removed the age group of less than 12 and above 85 as the number of books read by these users are very less and review given by these age groups may not help for recommending books as the most of the user base are between 15 to 55."
      ],
      "metadata": {
        "id": "VECbqPI7phqN"
      }
    },
    {
      "cell_type": "markdown",
      "source": [
        "##### 3. Will the gained insights help creating a positive business impact? \n",
        "Are there any insights that lead to negative growth? Justify with specific reason."
      ],
      "metadata": {
        "id": "Seke61FWphqN"
      }
    },
    {
      "cell_type": "markdown",
      "source": [
        "Age group of users between 12 to 85 can help us to recommend good books to the users as our user base is around 15 to 50,so their reviews can help us to build a good recommendation system."
      ],
      "metadata": {
        "id": "DW4_bGpfphqN"
      }
    },
    {
      "cell_type": "markdown",
      "source": [
        "#### Country vs users(Bivariate analysis)"
      ],
      "metadata": {
        "id": "YJ55k-q6phqO"
      }
    },
    {
      "cell_type": "code",
      "source": [
        "# Chart - 8 visualization code\n",
        "sns.countplot(data=users,y='country',order=users['country'].value_counts().index[0:10])\n",
        "plt.title('Number of users per country')\n",
        "plt.xlabel('Number of users')\n",
        "plt.show()\n"
      ],
      "metadata": {
        "id": "B2aS4O1ophqO"
      },
      "execution_count": null,
      "outputs": []
    },
    {
      "cell_type": "markdown",
      "source": [
        "##### 1. Why did you pick the specific chart?"
      ],
      "metadata": {
        "id": "gCFgpxoyphqP"
      }
    },
    {
      "cell_type": "markdown",
      "source": [
        "The countplot is used to represent the occurrence(counts) of the observation present in the categorical variable. It uses the concept of a bar chart for the visual depiction.\n",
        "\n",
        "The bar graph is used to compare the items between different groups over time. Bar graphs are used to measure the changes over a period of time. When the changes are larger, a bar graph is the best option to represent the data.\n",
        "\n",
        "Thus, I have used the bar plot to show the relationship between country and users."
      ],
      "metadata": {
        "id": "TVxDimi2phqP"
      }
    },
    {
      "cell_type": "markdown",
      "source": [
        "##### 2. What is/are the insight(s) found from the chart?"
      ],
      "metadata": {
        "id": "OVtJsKN_phqQ"
      }
    },
    {
      "cell_type": "markdown",
      "source": [
        "These are the top ten countries with the highest user base.\n",
        "\n",
        "As most of the users are from the USA around 1,40,000 and rest countries have around 20,000 users or below 20,000\n"
      ],
      "metadata": {
        "id": "ngGi97qjphqQ"
      }
    },
    {
      "cell_type": "markdown",
      "source": [
        "##### 3. Will the gained insights help creating a positive business impact? \n",
        "Are there any insights that lead to negative growth? Justify with specific reason."
      ],
      "metadata": {
        "id": "lssrdh5qphqQ"
      }
    },
    {
      "cell_type": "markdown",
      "source": [
        "As most of the users are from USA with around 1,40,000 users, so we can say that more likely the book recommended is based on the USA users."
      ],
      "metadata": {
        "id": "tBpY5ekJphqQ"
      }
    },
    {
      "cell_type": "markdown",
      "source": [
        "#### Books vs rating(Bivariate analysis)"
      ],
      "metadata": {
        "id": "PIIx-8_IphqN"
      }
    },
    {
      "cell_type": "code",
      "source": [
        "# chart - 9 visualization code(Top 20 books with higest rating)\n",
        "\n",
        "plt.figure(figsize=(10,7))\n",
        "sns.barplot(data=book_with_highest_rating.head(20),x='book_rating',y='book_title')\n",
        "plt.title('Top 20 books with higest rating')\n",
        "plt.show()"
      ],
      "metadata": {
        "id": "lqAIGUfyphqO"
      },
      "execution_count": null,
      "outputs": []
    },
    {
      "cell_type": "markdown",
      "source": [
        "##### 1. Why did you pick the specific chart?"
      ],
      "metadata": {
        "id": "t27r6nlMphqO"
      }
    },
    {
      "cell_type": "markdown",
      "source": [
        "The countplot is used to represent the occurrence(counts) of the observation present in the categorical variable. It uses the concept of a bar chart for the visual depiction.\n",
        "\n",
        "The bar graph is used to compare the items between different groups over time. Bar graphs are used to measure the changes over a period of time. When the changes are larger, a bar graph is the best option to represent the data.\n",
        "\n",
        "Thus, I have used the bar plot to show the relationship between book title and book rating."
      ],
      "metadata": {
        "id": "iv6ro40sphqO"
      }
    },
    {
      "cell_type": "markdown",
      "source": [
        "##### 2. What is/are the insight(s) found from the chart?"
      ],
      "metadata": {
        "id": "r2jJGEOYphqO"
      }
    },
    {
      "cell_type": "markdown",
      "source": [
        "These are the top 20 books having the highest ratings given by the users with 2000 plus ratings.\n",
        "\n",
        "The lovely bones is the top novel with highest rating of around 6000."
      ],
      "metadata": {
        "id": "Po6ZPi4hphqO"
      }
    },
    {
      "cell_type": "markdown",
      "source": [
        "##### 3. Will the gained insights help creating a positive business impact? \n",
        "Are there any insights that lead to negative growth? Justify with specific reason."
      ],
      "metadata": {
        "id": "b0JNsNcRphqO"
      }
    },
    {
      "cell_type": "markdown",
      "source": [
        "These top 20 books can be used to recommend to the new users as these books are having highest ratings."
      ],
      "metadata": {
        "id": "xvSq8iUTphqO"
      }
    },
    {
      "cell_type": "markdown",
      "source": [
        "#### Most read books with average rating(Bivariate analysis)"
      ],
      "metadata": {
        "id": "BZR9WyysphqO"
      }
    },
    {
      "cell_type": "code",
      "source": [
        "# Chart - 8 visualization code(Most read books with average rating)\n",
        "plt.figure(figsize=(10,7))\n",
        "sns.barplot(data=most_readed_books_with_rating,x='book_rating',y='book_title')\n",
        "plt.title('Top 20 most read books with average rating ')\n",
        "plt.show()"
      ],
      "metadata": {
        "id": "TdPTWpAVphqO"
      },
      "execution_count": null,
      "outputs": []
    },
    {
      "cell_type": "markdown",
      "source": [
        "##### 1. Why did you pick the specific chart?"
      ],
      "metadata": {
        "id": "jj7wYXLtphqO"
      }
    },
    {
      "cell_type": "markdown",
      "source": [
        "The countplot is used to represent the occurrence(counts) of the observation present in the categorical variable. It uses the concept of a bar chart for the visual depiction.\n",
        "\n",
        "The bar graph is used to compare the items between different groups over time.  Bar graphs are used to measure the changes over a period of time. When the changes are larger, a bar graph is the best option to represent the data.\n",
        "\n",
        "Thus, I have used the bar plot to show the relationship between book title and average book rating."
      ],
      "metadata": {
        "id": "Ob8u6rCTphqO"
      }
    },
    {
      "cell_type": "markdown",
      "source": [
        "##### 2. What is/are the insight(s) found from the chart?"
      ],
      "metadata": {
        "id": "eZrbJ2SmphqO"
      }
    },
    {
      "cell_type": "markdown",
      "source": [
        "These are the top 20 books which are read by most of the users and the average rating of these books are more than 7 plus.\n",
        "\n",
        "Wild animus is this second highest read book but the average rating is around 4.5."
      ],
      "metadata": {
        "id": "mZtgC_hjphqO"
      }
    },
    {
      "cell_type": "markdown",
      "source": [
        "##### 3. Will the gained insights help creating a positive business impact? \n",
        "Are there any insights that lead to negative growth? Justify with specific reason."
      ],
      "metadata": {
        "id": "rFu4xreNphqO"
      }
    },
    {
      "cell_type": "markdown",
      "source": [
        "These top 20 books can be used to recommend to the new users as these books are read by most of the users and there average rating is more than 7."
      ],
      "metadata": {
        "id": "ey_0qi68phqO"
      }
    },
    {
      "cell_type": "markdown",
      "source": [
        "#### Age vs Rating(Bivariate analysis)"
      ],
      "metadata": {
        "id": "U2RJ9gkRphqQ"
      }
    },
    {
      "cell_type": "code",
      "source": [
        "# Chart - 10 visualization code(Highest rating amoung different age group)\n",
        "plt.figure(figsize=(10,7))\n",
        "sns.barplot(data=age_with_most_rating,x='age',y='book_rating')\n",
        "plt.title('Highest rating amoung different age group')\n",
        "plt.show()"
      ],
      "metadata": {
        "id": "GM7a4YP4phqQ"
      },
      "execution_count": null,
      "outputs": []
    },
    {
      "cell_type": "markdown",
      "source": [
        "##### 1. Why did you pick the specific chart?"
      ],
      "metadata": {
        "id": "1M8mcRywphqQ"
      }
    },
    {
      "cell_type": "markdown",
      "source": [
        "The countplot is used to represent the occurrence(counts) of the observation present in the categorical variable. It uses the concept of a bar chart for the visual depiction.\n",
        "\n",
        "The bar graph is used to compare the items between different groups over time. Bar graphs are used to measure the changes over a period of time. When the changes are larger, a bar graph is the best option to represent the data.\n",
        "\n",
        "Thus, I have used the bar plot to show the relationship between age and book rating."
      ],
      "metadata": {
        "id": "8agQvks0phqQ"
      }
    },
    {
      "cell_type": "markdown",
      "source": [
        "##### 2. What is/are the insight(s) found from the chart?"
      ],
      "metadata": {
        "id": "tgIPom80phqQ"
      }
    },
    {
      "cell_type": "markdown",
      "source": [
        "Highest rating is given by the age group of 23 to 52"
      ],
      "metadata": {
        "id": "Qp13pnNzphqQ"
      }
    },
    {
      "cell_type": "markdown",
      "source": [
        "##### 3. Will the gained insights help creating a positive business impact? \n",
        "Are there any insights that lead to negative growth? Justify with specific reason."
      ],
      "metadata": {
        "id": "JMzcOPDDphqR"
      }
    },
    {
      "cell_type": "markdown",
      "source": [
        "As most of the books are read by the user age of 15 to 50 and the highest rating is given by the age group of 23 to 52 based on these rating we can recommend good books to the user base of age 15 to 50."
      ],
      "metadata": {
        "id": "R4Ka1PC2phqR"
      }
    },
    {
      "cell_type": "markdown",
      "source": [
        "#### Author v/s Rating(Bivariate analysis)"
      ],
      "metadata": {
        "id": "n3dbpmDWp1ck"
      }
    },
    {
      "cell_type": "code",
      "source": [
        "# Chart - 12 visualization code(Top 10 author with highest rating)\n",
        "\n",
        "plt.figure(figsize=(10,7))\n",
        "sns.barplot(data=author_with_highest_rating.head(10),x='book_rating',y='book_author')\n",
        "plt.title('Top 10 author with highest rating')\n",
        "plt.show()"
      ],
      "metadata": {
        "id": "bwevp1tKp1ck"
      },
      "execution_count": null,
      "outputs": []
    },
    {
      "cell_type": "markdown",
      "source": [
        "##### 1. Why did you pick the specific chart?"
      ],
      "metadata": {
        "id": "ylSl6qgtp1ck"
      }
    },
    {
      "cell_type": "markdown",
      "source": [
        "The countplot is used to represent the occurrence(counts) of the observation present in the categorical variable. It uses the concept of a bar chart for the visual depiction.\n",
        "\n",
        "The bar graph is used to compare the items between different groups over time. Bar graphs are used to measure the changes over a period of time. When the changes are larger, a bar graph is the best option to represent the data.\n",
        "\n",
        "Thus, I have used the bar plot to show the relationship between author and book ratings."
      ],
      "metadata": {
        "id": "m2xqNkiQp1ck"
      }
    },
    {
      "cell_type": "markdown",
      "source": [
        "##### 2. What is/are the insight(s) found from the chart?"
      ],
      "metadata": {
        "id": "ZWILFDl5p1ck"
      }
    },
    {
      "cell_type": "markdown",
      "source": [
        "These are the top ten authors with the highest rating of 9000+ as books of these authors are more liked by the users.\n",
        "\n",
        "Most favorite author is Stephen King with the highest rating of 35,000."
      ],
      "metadata": {
        "id": "x-lUsV2mp1ck"
      }
    },
    {
      "cell_type": "markdown",
      "source": [
        "##### 3. Will the gained insights help creating a positive business impact? \n",
        "Are there any insights that lead to negative growth? Justify with specific reason."
      ],
      "metadata": {
        "id": "M7G43BXep1ck"
      }
    },
    {
      "cell_type": "markdown",
      "source": [
        "These top 10 authors books can be used to recommend to the new users as these author books are having highest ratings."
      ],
      "metadata": {
        "id": "5wwDJXsLp1cl"
      }
    },
    {
      "cell_type": "code",
      "source": [],
      "metadata": {
        "id": "IWgAHcIoHWql"
      },
      "execution_count": null,
      "outputs": []
    },
    {
      "cell_type": "markdown",
      "source": [
        "####  Most frequent words in book title(Bivariate analysis)"
      ],
      "metadata": {
        "id": "E8MQi83GHXSG"
      }
    },
    {
      "cell_type": "code",
      "source": [
        "# Chart - 13 visualization code( Most frequent words in book title of top 10 author)\n",
        "top_author=author_with_highest_rating['book_author'].tolist()\n",
        "stopwords=set(STOPWORDS)\n",
        "for i in top_author:\n",
        "  author_books=df.loc[(df['book_author']==i),'book_title'].reset_index()\n",
        "  text=author_books['book_title']\n",
        "  wordcloud2 = WordCloud(random_state=10,stopwords=stopwords).generate(str(text))\n",
        "  # Generate plot\n",
        "  plt.figure(figsize=(10,6))\n",
        "  plt.title(f' Most frequent words in book title of author {i}')\n",
        "  plt.imshow(wordcloud2)\n",
        "  plt.axis(\"off\")\n",
        "  plt.show()"
      ],
      "metadata": {
        "id": "L_aZJ4_0HXSH"
      },
      "execution_count": null,
      "outputs": []
    },
    {
      "cell_type": "markdown",
      "source": [
        "##### 1. Why did you pick the specific chart?"
      ],
      "metadata": {
        "id": "2v_3NMzfHXSI"
      }
    },
    {
      "cell_type": "markdown",
      "source": [
        "Wordcloud is basically a visualization technique to represent the frequency of words in a text where the size of the word represents its frequency.\n",
        "\n",
        "Thus, I have used the word clouds to represent what kind of books are written by top 10 authors."
      ],
      "metadata": {
        "id": "Eu47YjLpHXSI"
      }
    },
    {
      "cell_type": "markdown",
      "source": [
        "##### 2. What is/are the insight(s) found from the chart?"
      ],
      "metadata": {
        "id": "qquEGWjoHXSJ"
      }
    },
    {
      "cell_type": "markdown",
      "source": [
        "With the highest frequency of words present in the book title of each author can represent books topics written by the different authors."
      ],
      "metadata": {
        "id": "BjoNYB-vHXSJ"
      }
    },
    {
      "cell_type": "markdown",
      "source": [
        "## ***5. Hypothesis Testing***"
      ],
      "metadata": {
        "id": "g-ATYxFrGrvw"
      }
    },
    {
      "cell_type": "markdown",
      "source": [
        "### Based on your chart experiments, define three hypothetical statements from the dataset. In the next three questions, perform hypothesis testing to obtain final conclusion about the statements through your code and statistical testing."
      ],
      "metadata": {
        "id": "Yfr_Vlr8HBkt"
      }
    },
    {
      "cell_type": "markdown",
      "source": [
        "Average book read by the users is more than 10.\n",
        "\n",
        "Average age of the users who read more than 50 books is 35.\n",
        "\n",
        "Top 100 books which are read by most of the users are having the average rating of more than 8."
      ],
      "metadata": {
        "id": "-7MS06SUHkB-"
      }
    },
    {
      "cell_type": "code",
      "source": [
        "# Creating Parameter Class \n",
        "class findz:\n",
        "  def proportion(self,sample,hyp,size):\n",
        "    return (sample - hyp)/math.sqrt(hyp*(1-hyp)/size)\n",
        "  def mean(self,hyp,sample,size,std):\n",
        "    return (sample - hyp)*math.sqrt(size)/std\n",
        "  def varience(self,hyp,sample,size):\n",
        "    return (size-1)*sample/hyp\n",
        "\n",
        "variance = lambda x : sum([(i - np.mean(x))**2 for i in x])/(len(x)-1)\n",
        "zcdf = lambda x: norm(0,1).cdf(x)\n",
        "# Creating a function for getting P value\n",
        "def p_value(z,tailed,t,hypothesis_number,df,col):\n",
        "  if t!=\"true\":\n",
        "    z=zcdf(z)\n",
        "    if tailed=='l':\n",
        "      return z\n",
        "    elif tailed == 'r':\n",
        "      return 1-z\n",
        "    elif tailed == 'd':\n",
        "      if z>0.5:\n",
        "        return 2*(1-z)\n",
        "      else:\n",
        "        return 2*z\n",
        "    else:\n",
        "      return np.nan\n",
        "  else:\n",
        "    z,p_value=stats.ttest_1samp(df[col],hypothesis_number)\n",
        "    return p_value\n",
        "    \n",
        "  \n",
        "\n",
        "\n",
        "# Conclusion about the P - Value\n",
        "def conclusion(p):\n",
        "  significance_level = 0.05\n",
        "  if p>significance_level:\n",
        "    return f\"Failed to reject the Null Hypothesis for p = {p}.\"\n",
        "  else:\n",
        "    return f\"Null Hypothesis rejected Successfully for p = {p}\"\n",
        "\n",
        "# Initializing the class\n",
        "findz = findz()"
      ],
      "metadata": {
        "id": "TVtLdWAdnEzT"
      },
      "execution_count": null,
      "outputs": []
    },
    {
      "cell_type": "markdown",
      "source": [
        "### Hypothetical Statement - 1"
      ],
      "metadata": {
        "id": "8yEUt7NnHlrM"
      }
    },
    {
      "cell_type": "markdown",
      "source": [
        "Average book read by the users is more than 10."
      ],
      "metadata": {
        "id": "mdkUL7LYkKGl"
      }
    },
    {
      "cell_type": "markdown",
      "source": [
        "#### 1. State Your research hypothesis as a null hypothesis and alternate hypothesis."
      ],
      "metadata": {
        "id": "tEA2Xm5dHt1r"
      }
    },
    {
      "cell_type": "markdown",
      "source": [
        "Null Hypothesis: N = 10\n",
        "\n",
        "Alternate Hypothesis : N > 10\n",
        "\n",
        "Test Type: Right Tailed Test"
      ],
      "metadata": {
        "id": "HI9ZP0laH0D-"
      }
    },
    {
      "cell_type": "markdown",
      "source": [
        "#### 2. Perform an appropriate statistical test."
      ],
      "metadata": {
        "id": "I79__PHVH19G"
      }
    },
    {
      "cell_type": "code",
      "source": [
        "# Perform Statistical Test to obtain P-Value\n",
        "hypo_1=ratings.groupby('User-ID')['ISBN'].count().reset_index()\n",
        "# Getting the required parameter values for hypothesis testing\n",
        "hypothesis_number = 10\n",
        "sample_mean = hypo_1[\"ISBN\"].mean()\n",
        "size = len(hypo_1)\n",
        "std=(variance(hypo_1[\"ISBN\"]))**0.5"
      ],
      "metadata": {
        "id": "oZrfquKtyian"
      },
      "execution_count": null,
      "outputs": []
    },
    {
      "cell_type": "code",
      "source": [
        "# Getting Z value\n",
        "z = findz.mean(hypothesis_number,sample_mean,size,std)\n",
        "# Getting P - Value\n",
        "p = p_value(z=z,tailed='l',t=\"true\",hypothesis_number=hypothesis_number,df=hypo_1,col=\"ISBN\")\n",
        "# Getting Conclusion\n",
        "print(conclusion(p))"
      ],
      "metadata": {
        "id": "aSU5iS9mow8E"
      },
      "execution_count": null,
      "outputs": []
    },
    {
      "cell_type": "markdown",
      "source": [
        "##### Which statistical test have you done to obtain P-Value?"
      ],
      "metadata": {
        "id": "Ou-I18pAyIpj"
      }
    },
    {
      "cell_type": "markdown",
      "source": [
        "I have used T-Test as the statistical testing to obtain P-Value and found the result that Null hypothesis has been rejected "
      ],
      "metadata": {
        "id": "s2U0kk00ygSB"
      }
    },
    {
      "cell_type": "markdown",
      "source": [
        "##### Why did you choose the specific statistical test?"
      ],
      "metadata": {
        "id": "fF3858GYyt-u"
      }
    },
    {
      "cell_type": "markdown",
      "source": [
        "The distribution is postively skewed. For a skewed data Z-Test can't be performed.So, for a skewed data we can use T-test for better result. Thus, I used t - test."
      ],
      "metadata": {
        "id": "HO4K0gP5y3B4"
      }
    },
    {
      "cell_type": "markdown",
      "source": [
        "### Hypothetical Statement - 2"
      ],
      "metadata": {
        "id": "4_0_7-oCpUZd"
      }
    },
    {
      "cell_type": "markdown",
      "source": [
        "Average age of the users who read more than 50 books is 35."
      ],
      "metadata": {
        "id": "kjQH4H0XQRUz"
      }
    },
    {
      "cell_type": "markdown",
      "source": [
        "#### 1. State Your research hypothesis as a null hypothesis and alternate hypothesis."
      ],
      "metadata": {
        "id": "hwyV_J3ipUZe"
      }
    },
    {
      "cell_type": "markdown",
      "source": [
        "Null Hypothesis: N != 35\n",
        "\n",
        "Alternate Hypothesis : N = 35\n",
        "\n",
        "Test Type: Two Tailed Test"
      ],
      "metadata": {
        "id": "FnpLGJ-4pUZe"
      }
    },
    {
      "cell_type": "markdown",
      "source": [
        "#### 2. Perform an appropriate statistical test."
      ],
      "metadata": {
        "id": "3yB-zSqbpUZe"
      }
    },
    {
      "cell_type": "code",
      "source": [
        "# Perform Statistical Test to obtain P-Value\n",
        "\n",
        "hypo_2=hypo_1.merge(users,on='User-ID')\n",
        "hypo_2= hypo_2.drop(columns=['location', 'country'])\n",
        "hypo_2=hypo_2.dropna()\n",
        "# Getting the required parameter values for hypothesis testing\n",
        "hypothesis_number =35 \n",
        "sample_mean = hypo_2[\"age\"].mean()\n",
        "size = len(hypo_1)\n",
        "std=(variance(hypo_2[\"age\"]))**0.5"
      ],
      "metadata": {
        "id": "sWxdNTXNpUZe"
      },
      "execution_count": null,
      "outputs": []
    },
    {
      "cell_type": "code",
      "source": [
        "# Getting Z value\n",
        "z = findz.mean(hypothesis_number,sample_mean,size,std)\n",
        "# Getting P - Value\n",
        "p = p_value(z=z,tailed='d',t=\"false\",hypothesis_number=hypothesis_number,df=hypo_2,col=\"age\")\n",
        "# Getting Conclusion\n",
        "print(conclusion(p))"
      ],
      "metadata": {
        "id": "0q5EdfhgUCzb"
      },
      "execution_count": null,
      "outputs": []
    },
    {
      "cell_type": "markdown",
      "source": [
        "##### Which statistical test have you done to obtain P-Value?"
      ],
      "metadata": {
        "id": "dEUvejAfpUZe"
      }
    },
    {
      "cell_type": "markdown",
      "source": [
        "I have used Z-Test as the statistical testing to obtain P-Value and found the result that Null hypothesis rejected successfully."
      ],
      "metadata": {
        "id": "oLDrPz7HpUZf"
      }
    },
    {
      "cell_type": "markdown",
      "source": [
        "##### Why did you choose the specific statistical test?"
      ],
      "metadata": {
        "id": "Fd15vwWVpUZf"
      }
    },
    {
      "cell_type": "markdown",
      "source": [
        "I have used Z-Test as the statistical testing to obtain P-Value and found the result that Null hypothesis rejected successfully."
      ],
      "metadata": {
        "id": "4xOGYyiBpUZf"
      }
    },
    {
      "cell_type": "markdown",
      "source": [
        "### Hypothetical Statement - 3"
      ],
      "metadata": {
        "id": "bn_IUdTipZyH"
      }
    },
    {
      "cell_type": "markdown",
      "source": [
        "Top 100 books which are read by most of the users are having the average rating of more than 8."
      ],
      "metadata": {
        "id": "iCukT6QrWc6c"
      }
    },
    {
      "cell_type": "markdown",
      "source": [
        "#### 1. State Your research hypothesis as a null hypothesis and alternate hypothesis."
      ],
      "metadata": {
        "id": "49K5P_iCpZyH"
      }
    },
    {
      "cell_type": "markdown",
      "source": [
        "Null Hypothesis: N = 8\n",
        "\n",
        "Alternate Hypothesis : N > 8\n",
        "\n",
        "Test Type: Right Tailed Test"
      ],
      "metadata": {
        "id": "7gWI5rT9pZyH"
      }
    },
    {
      "cell_type": "markdown",
      "source": [
        "#### 2. Perform an appropriate statistical test."
      ],
      "metadata": {
        "id": "Nff-vKELpZyI"
      }
    },
    {
      "cell_type": "code",
      "source": [
        "# Perform Statistical Test to obtain P-Value\n",
        "hypo_3=ratings.groupby('ISBN').agg({'User-ID':'count','book_rating':'mean'}).reset_index().sort_values(by='User-ID',ascending=False).head(100)\n",
        "# Getting the required parameter values for hypothesis testing\n",
        "hypothesis_number =8\n",
        "sample_mean = hypo_3[\"book_rating\"].mean()\n",
        "size = len(hypo_1)\n",
        "std=(variance(hypo_3[\"book_rating\"]))**0.5"
      ],
      "metadata": {
        "id": "s6AnJQjtpZyI"
      },
      "execution_count": null,
      "outputs": []
    },
    {
      "cell_type": "code",
      "source": [
        "# Getting Z value\n",
        "z = findz.mean(hypothesis_number,sample_mean,size,std)\n",
        "# Getting P - Value\n",
        "p = p_value(z=z,tailed='r',t=\"true\",hypothesis_number=hypothesis_number,df=hypo_3,col=\"book_rating\")\n",
        "# Getting Conclusion\n",
        "print(conclusion(p))"
      ],
      "metadata": {
        "id": "fZUct6MqcfF5"
      },
      "execution_count": null,
      "outputs": []
    },
    {
      "cell_type": "markdown",
      "source": [
        "##### Which statistical test have you done to obtain P-Value?"
      ],
      "metadata": {
        "id": "kLW572S8pZyI"
      }
    },
    {
      "cell_type": "markdown",
      "source": [
        "I have used T-Test as the statistical testing to obtain P-Value and found the result that Failed to reject the Null Hypothesis."
      ],
      "metadata": {
        "id": "ytWJ8v15pZyI"
      }
    },
    {
      "cell_type": "markdown",
      "source": [
        "##### Why did you choose the specific statistical test?"
      ],
      "metadata": {
        "id": "dWbDXHzopZyI"
      }
    },
    {
      "cell_type": "markdown",
      "source": [
        "The distribution is negatively skewed. For a skewed data Z-Test can't be performed.So, for a skewed data we can use T-test for better result. Thus, I used t - test."
      ],
      "metadata": {
        "id": "M99G98V6pZyI"
      }
    },
    {
      "cell_type": "markdown",
      "source": [
        "## 6. ***Data Pre-processing***"
      ],
      "metadata": {
        "id": "TLWP0cnrJmHW"
      }
    },
    {
      "cell_type": "code",
      "source": [
        "# Creat dataset with Number of rating & avg rating per book title\n",
        "number_rating=rating_with_book.groupby(\"book_title\")['book_rating'].agg(num_rating='count',avg_rating='mean').reset_index()"
      ],
      "metadata": {
        "id": "0Ds5mCpdXpHQ"
      },
      "execution_count": null,
      "outputs": []
    },
    {
      "cell_type": "code",
      "source": [
        "# remove number of rating below 500 and avg rating below 5.\n",
        "best_book=number_rating[(number_rating['num_rating']>=50)& (number_rating['avg_rating']>=5)]"
      ],
      "metadata": {
        "id": "Jvxc7_k79tIU"
      },
      "execution_count": null,
      "outputs": []
    },
    {
      "cell_type": "code",
      "source": [
        "best_book.shape"
      ],
      "metadata": {
        "id": "e-H0nJUpkfHZ"
      },
      "execution_count": null,
      "outputs": []
    },
    {
      "cell_type": "code",
      "source": [
        "# removed the users given less than 50 book ratings\n",
        "x=df.groupby('User-ID').count()['book_rating']>=50\n",
        "y=x[x].index\n",
        "df=df[df['User-ID'].isin(y)]"
      ],
      "metadata": {
        "id": "TsG-9nNIg9C9"
      },
      "execution_count": null,
      "outputs": []
    },
    {
      "cell_type": "code",
      "source": [
        "# Final dataset after mergeing best books\n",
        "final_df=df.merge(best_book,on='book_title').reset_index()"
      ],
      "metadata": {
        "id": "juHS7XGphLnF"
      },
      "execution_count": null,
      "outputs": []
    },
    {
      "cell_type": "code",
      "source": [
        "# Droped few columns\n",
        "final_df.drop( ['year_of_publication','publisher', 'location', 'age','country'],axis=1,inplace=True)"
      ],
      "metadata": {
        "id": "UedmXifJlc0K"
      },
      "execution_count": null,
      "outputs": []
    },
    {
      "cell_type": "code",
      "source": [
        "# final dataset\n",
        "final_df.head()"
      ],
      "metadata": {
        "id": "qO00AudEoiw2"
      },
      "execution_count": null,
      "outputs": []
    },
    {
      "cell_type": "code",
      "source": [
        "# Created pivot table base on book title and user id\n",
        "pivot_t = final_df.pivot_table(index='book_title',columns='User-ID',values='book_rating')"
      ],
      "metadata": {
        "id": "HogzCP8iiFCx"
      },
      "execution_count": null,
      "outputs": []
    },
    {
      "cell_type": "code",
      "source": [
        "# Filled NA with 0\n",
        "pivot_t.fillna(0,inplace=True)"
      ],
      "metadata": {
        "id": "v0mE7hlroAJl"
      },
      "execution_count": null,
      "outputs": []
    },
    {
      "cell_type": "code",
      "source": [
        "pivot_t"
      ],
      "metadata": {
        "id": "ZkabcndUoTa-"
      },
      "execution_count": null,
      "outputs": []
    }
  ]
}